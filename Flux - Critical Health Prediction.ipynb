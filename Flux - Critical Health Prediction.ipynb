{
 "cells": [
  {
   "cell_type": "code",
   "execution_count": 1,
   "id": "05661a93",
   "metadata": {},
   "outputs": [],
   "source": [
    "import numpy as np\n",
    "import pandas as pd\n",
    "\n",
    "from sklearn.model_selection import KFold\n",
    "from sklearn.preprocessing import OneHotEncoder\n",
    "from sklearn.compose import ColumnTransformer\n",
    "from sklearn.pipeline import Pipeline\n",
    "\n",
    "from sklearn.ensemble import RandomForestRegressor"
   ]
  },
  {
   "cell_type": "code",
   "execution_count": 2,
   "id": "8bb3da55",
   "metadata": {},
   "outputs": [],
   "source": [
    "df = pd.read_csv('Data_CHF_Zhao_2020_ATE.csv')"
   ]
  },
  {
   "cell_type": "code",
   "execution_count": 9,
   "id": "c2b7c2af",
   "metadata": {},
   "outputs": [
    {
     "name": "stdout",
     "output_type": "stream",
     "text": [
      "<class 'pandas.core.frame.DataFrame'>\n",
      "RangeIndex: 1865 entries, 0 to 1864\n",
      "Data columns (total 10 columns):\n",
      " #   Column               Non-Null Count  Dtype  \n",
      "---  ------               --------------  -----  \n",
      " 0   id                   1865 non-null   int64  \n",
      " 1   author               1865 non-null   object \n",
      " 2   geometry             1865 non-null   object \n",
      " 3   pressure [MPa]       1865 non-null   float64\n",
      " 4   mass_flux [kg/m2-s]  1865 non-null   int64  \n",
      " 5   x_e_out [-]          1865 non-null   float64\n",
      " 6   D_e [mm]             1865 non-null   float64\n",
      " 7   D_h [mm]             1865 non-null   float64\n",
      " 8   length [mm]          1865 non-null   int64  \n",
      " 9   chf_exp [MW/m2]      1865 non-null   float64\n",
      "dtypes: float64(5), int64(3), object(2)\n",
      "memory usage: 145.8+ KB\n"
     ]
    }
   ],
   "source": [
    "df.info()"
   ]
  },
  {
   "cell_type": "markdown",
   "id": "abd539dd",
   "metadata": {},
   "source": [
    "## Preprocessing"
   ]
  },
  {
   "cell_type": "code",
   "execution_count": 16,
   "id": "afe95a4d",
   "metadata": {},
   "outputs": [
    {
     "name": "stdout",
     "output_type": "stream",
     "text": [
      "id: 1865\n",
      "author: 10\n",
      "geometry: 3\n",
      "pressure [MPa]: 114\n",
      "mass_flux [kg/m2-s]: 578\n",
      "x_e_out [-]: 1360\n",
      "D_e [mm]: 36\n",
      "D_h [mm]: 41\n",
      "length [mm]: 54\n",
      "chf_exp [MW/m2]: 109\n"
     ]
    }
   ],
   "source": [
    "for col in df.columns:\n",
    "    print(f\"{col}: {df[col].nunique()}\")"
   ]
  },
  {
   "cell_type": "code",
   "execution_count": 17,
   "id": "8b411a8f",
   "metadata": {},
   "outputs": [],
   "source": [
    "def preprocess_inputs(df):\n",
    "    df = df.copy()\n",
    "    \n",
    "    # Drop id and author columns\n",
    "    df = df.drop(['id', 'author'], axis=1)\n",
    "    \n",
    "    # Shuffle the dataset\n",
    "    df = df.sample(frac=1.0, random_state=1)\n",
    "    \n",
    "    # Split df into X and y\n",
    "    y = df['chf_exp [MW/m2]']\n",
    "    X = df.drop('chf_exp [MW/m2]', axis=1)\n",
    "    \n",
    "    return X, y"
   ]
  },
  {
   "cell_type": "code",
   "execution_count": 19,
   "id": "0f5bfad6",
   "metadata": {},
   "outputs": [],
   "source": [
    "X, y = preprocess_inputs(df)"
   ]
  },
  {
   "cell_type": "code",
   "execution_count": 20,
   "id": "98a3fe72",
   "metadata": {},
   "outputs": [
    {
     "data": {
      "text/html": [
       "<div>\n",
       "<style scoped>\n",
       "    .dataframe tbody tr th:only-of-type {\n",
       "        vertical-align: middle;\n",
       "    }\n",
       "\n",
       "    .dataframe tbody tr th {\n",
       "        vertical-align: top;\n",
       "    }\n",
       "\n",
       "    .dataframe thead th {\n",
       "        text-align: right;\n",
       "    }\n",
       "</style>\n",
       "<table border=\"1\" class=\"dataframe\">\n",
       "  <thead>\n",
       "    <tr style=\"text-align: right;\">\n",
       "      <th></th>\n",
       "      <th>geometry</th>\n",
       "      <th>pressure [MPa]</th>\n",
       "      <th>mass_flux [kg/m2-s]</th>\n",
       "      <th>x_e_out [-]</th>\n",
       "      <th>D_e [mm]</th>\n",
       "      <th>D_h [mm]</th>\n",
       "      <th>length [mm]</th>\n",
       "    </tr>\n",
       "  </thead>\n",
       "  <tbody>\n",
       "    <tr>\n",
       "      <th>400</th>\n",
       "      <td>tube</td>\n",
       "      <td>6.89</td>\n",
       "      <td>1967</td>\n",
       "      <td>0.1203</td>\n",
       "      <td>12.8</td>\n",
       "      <td>12.8</td>\n",
       "      <td>1930</td>\n",
       "    </tr>\n",
       "    <tr>\n",
       "      <th>571</th>\n",
       "      <td>tube</td>\n",
       "      <td>11.03</td>\n",
       "      <td>2034</td>\n",
       "      <td>0.0616</td>\n",
       "      <td>9.3</td>\n",
       "      <td>9.3</td>\n",
       "      <td>762</td>\n",
       "    </tr>\n",
       "    <tr>\n",
       "      <th>351</th>\n",
       "      <td>tube</td>\n",
       "      <td>7.00</td>\n",
       "      <td>4069</td>\n",
       "      <td>0.0636</td>\n",
       "      <td>10.8</td>\n",
       "      <td>10.8</td>\n",
       "      <td>864</td>\n",
       "    </tr>\n",
       "    <tr>\n",
       "      <th>1479</th>\n",
       "      <td>annulus</td>\n",
       "      <td>13.79</td>\n",
       "      <td>2729</td>\n",
       "      <td>0.0537</td>\n",
       "      <td>5.6</td>\n",
       "      <td>15.2</td>\n",
       "      <td>2134</td>\n",
       "    </tr>\n",
       "    <tr>\n",
       "      <th>1371</th>\n",
       "      <td>tube</td>\n",
       "      <td>13.79</td>\n",
       "      <td>690</td>\n",
       "      <td>-0.4854</td>\n",
       "      <td>11.1</td>\n",
       "      <td>11.1</td>\n",
       "      <td>457</td>\n",
       "    </tr>\n",
       "    <tr>\n",
       "      <th>...</th>\n",
       "      <td>...</td>\n",
       "      <td>...</td>\n",
       "      <td>...</td>\n",
       "      <td>...</td>\n",
       "      <td>...</td>\n",
       "      <td>...</td>\n",
       "      <td>...</td>\n",
       "    </tr>\n",
       "    <tr>\n",
       "      <th>905</th>\n",
       "      <td>tube</td>\n",
       "      <td>13.79</td>\n",
       "      <td>4910</td>\n",
       "      <td>0.1131</td>\n",
       "      <td>4.7</td>\n",
       "      <td>4.7</td>\n",
       "      <td>318</td>\n",
       "    </tr>\n",
       "    <tr>\n",
       "      <th>1791</th>\n",
       "      <td>annulus</td>\n",
       "      <td>6.85</td>\n",
       "      <td>2292</td>\n",
       "      <td>0.0330</td>\n",
       "      <td>8.5</td>\n",
       "      <td>24.6</td>\n",
       "      <td>1778</td>\n",
       "    </tr>\n",
       "    <tr>\n",
       "      <th>1096</th>\n",
       "      <td>tube</td>\n",
       "      <td>13.79</td>\n",
       "      <td>2116</td>\n",
       "      <td>0.0926</td>\n",
       "      <td>7.8</td>\n",
       "      <td>7.8</td>\n",
       "      <td>591</td>\n",
       "    </tr>\n",
       "    <tr>\n",
       "      <th>235</th>\n",
       "      <td>tube</td>\n",
       "      <td>6.89</td>\n",
       "      <td>4042</td>\n",
       "      <td>-0.0008</td>\n",
       "      <td>10.3</td>\n",
       "      <td>10.3</td>\n",
       "      <td>762</td>\n",
       "    </tr>\n",
       "    <tr>\n",
       "      <th>1061</th>\n",
       "      <td>tube</td>\n",
       "      <td>13.79</td>\n",
       "      <td>1113</td>\n",
       "      <td>0.1584</td>\n",
       "      <td>7.8</td>\n",
       "      <td>7.8</td>\n",
       "      <td>591</td>\n",
       "    </tr>\n",
       "  </tbody>\n",
       "</table>\n",
       "<p>1865 rows × 7 columns</p>\n",
       "</div>"
      ],
      "text/plain": [
       "     geometry  pressure [MPa]  mass_flux [kg/m2-s]  x_e_out [-]  D_e [mm]  \\\n",
       "400      tube            6.89                 1967       0.1203      12.8   \n",
       "571      tube           11.03                 2034       0.0616       9.3   \n",
       "351      tube            7.00                 4069       0.0636      10.8   \n",
       "1479  annulus           13.79                 2729       0.0537       5.6   \n",
       "1371     tube           13.79                  690      -0.4854      11.1   \n",
       "...       ...             ...                  ...          ...       ...   \n",
       "905      tube           13.79                 4910       0.1131       4.7   \n",
       "1791  annulus            6.85                 2292       0.0330       8.5   \n",
       "1096     tube           13.79                 2116       0.0926       7.8   \n",
       "235      tube            6.89                 4042      -0.0008      10.3   \n",
       "1061     tube           13.79                 1113       0.1584       7.8   \n",
       "\n",
       "      D_h [mm]  length [mm]  \n",
       "400       12.8         1930  \n",
       "571        9.3          762  \n",
       "351       10.8          864  \n",
       "1479      15.2         2134  \n",
       "1371      11.1          457  \n",
       "...        ...          ...  \n",
       "905        4.7          318  \n",
       "1791      24.6         1778  \n",
       "1096       7.8          591  \n",
       "235       10.3          762  \n",
       "1061       7.8          591  \n",
       "\n",
       "[1865 rows x 7 columns]"
      ]
     },
     "execution_count": 20,
     "metadata": {},
     "output_type": "execute_result"
    }
   ],
   "source": [
    "X"
   ]
  },
  {
   "cell_type": "code",
   "execution_count": 25,
   "id": "9e683cf1",
   "metadata": {},
   "outputs": [
    {
     "data": {
      "text/plain": [
       "400     2.8\n",
       "571     3.2\n",
       "351     3.2\n",
       "1479    1.7\n",
       "1371    3.6\n",
       "       ... \n",
       "905     3.0\n",
       "1791    4.0\n",
       "1096    2.1\n",
       "235     4.0\n",
       "1061    2.0\n",
       "Name: chf_exp [MW/m2], Length: 1865, dtype: float64"
      ]
     },
     "execution_count": 25,
     "metadata": {},
     "output_type": "execute_result"
    }
   ],
   "source": [
    "y"
   ]
  },
  {
   "cell_type": "markdown",
   "id": "2e83967f",
   "metadata": {},
   "source": [
    "## Building Pipeline"
   ]
  },
  {
   "cell_type": "code",
   "execution_count": 22,
   "id": "ff52cc49",
   "metadata": {},
   "outputs": [],
   "source": [
    "def build_model():\n",
    "    \n",
    "    nominal_transformer = Pipeline(steps=[\n",
    "        ('onehot', OneHotEncoder(sparse=False, handle_unknown='ignore'))\n",
    "    ])\n",
    "    \n",
    "    preprocessor = ColumnTransformer(transformers=[\n",
    "        ('nominal', nominal_transformer, ['geometry'])\n",
    "    ], remainder='passthrough')\n",
    "    \n",
    "    model = Pipeline(steps=[\n",
    "        ('preprocessor', preprocessor),\n",
    "        ('regressor', RandomForestRegressor(random_state=1))\n",
    "    ])\n",
    "    \n",
    "    return model"
   ]
  },
  {
   "cell_type": "markdown",
   "id": "7412a30d",
   "metadata": {},
   "source": [
    "## Training"
   ]
  },
  {
   "cell_type": "code",
   "execution_count": 23,
   "id": "1fbbaf61",
   "metadata": {},
   "outputs": [],
   "source": [
    "kf = KFold(n_splits=5)\n",
    "\n",
    "rmses = []\n",
    "\n",
    "for train_idx, test_idx in kf.split(X):\n",
    "    \n",
    "    X_train = X.iloc[train_idx, :]\n",
    "    X_test = X.iloc[test_idx, :]\n",
    "    y_train = y.iloc[train_idx]\n",
    "    y_test = y.iloc[test_idx]\n",
    "    \n",
    "    model = build_model()\n",
    "    model.fit(X_train, y_train)\n",
    "    \n",
    "    y_pred = model.predict(X_test)\n",
    "    \n",
    "    rmse = np.sqrt(np.mean((y_test - y_pred)**2))\n",
    "    \n",
    "    rmses.append(rmse)\n",
    "\n",
    "final_rmse = np.mean(rmses)"
   ]
  },
  {
   "cell_type": "code",
   "execution_count": 24,
   "id": "8e870480",
   "metadata": {},
   "outputs": [
    {
     "name": "stdout",
     "output_type": "stream",
     "text": [
      "RMSE: 0.63\n"
     ]
    }
   ],
   "source": [
    "print(\"RMSE: {:.2f}\".format(final_rmse))"
   ]
  }
 ],
 "metadata": {
  "kernelspec": {
   "display_name": "Python 3 (ipykernel)",
   "language": "python",
   "name": "python3"
  },
  "language_info": {
   "codemirror_mode": {
    "name": "ipython",
    "version": 3
   },
   "file_extension": ".py",
   "mimetype": "text/x-python",
   "name": "python",
   "nbconvert_exporter": "python",
   "pygments_lexer": "ipython3",
   "version": "3.9.13"
  }
 },
 "nbformat": 4,
 "nbformat_minor": 5
}
